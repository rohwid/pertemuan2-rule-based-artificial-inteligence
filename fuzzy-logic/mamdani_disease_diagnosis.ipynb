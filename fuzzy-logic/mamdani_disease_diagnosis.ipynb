{
 "cells": [
  {
   "cell_type": "code",
   "execution_count": null,
   "metadata": {},
   "outputs": [],
   "source": [
    "import numpy as np\n",
    "import skfuzzy as fuzz\n",
    "import skfuzzy.membership as mf\n",
    "import matplotlib.pyplot as plt\n",
    "\n",
    "%matplotlib inline"
   ]
  },
  {
   "cell_type": "markdown",
   "metadata": {},
   "source": [
    "Berikut adalah langkah-langkah utama yang terdapat pada Logika Fuzzy.\n",
    "\n",
    "<img src=\"img/fuzzy_step.png\" alt=\"Drawing\" width= 1000px;/>\n",
    "\n",
    "sumber: [https://www.youtube.com/watch?v=RjyRTBNk3w8&t=8s](https://www.youtube.com/watch?v=RjyRTBNk3w8&t=8s)\n",
    "\n",
    "Sistem fuzzy logic memetakan ruang input menuju ruang output menggunakan logika fuzzy.\n",
    "\n",
    "+ **Input**: **_Data yang menggambarkan sebuah kondisi_** yang selanjutnya bertujuan untuk disimpulkan atau dianalisa menggunakan Logika Fuzzy yang menerapkan sistem pakar berbasis rule atau *rule based system*.\n",
    "+ **Knowledge Base**: Kumpulan aturan atau rule dalam bentuk pernyataan if-then yang membentuk sebuah sistem pakar. \n",
    "+ **Fuzzification**: Proses mengubah input sistem yang memiliki value berupa angka menjadi sebuah sebuah value *fuzzy* yang bersifat linguistik berdasarkan fungsi keanggotaan atau *membership* dan disimpan dalam **_Knowledge Base_**.\n",
    "+ **Inferensi**: Proses mengubah input fuzzy menjadi output fuzzy dengan cara mengikuti aturan (if-then) atau rule based system yang telah ditetapkan sebelumnya pada **_Knowledge Base_** yang rule tersebut mengacu pada kepakaran dari pembuat program.\n",
    "+ **Defuzzification**: Proses mengubah hasil dari tahap inferensi menjadi output yang dianggap sebagai kesimpulan dari pakar berdasarkan fungsi keanggotaan yang telah ditetapkan.\n",
    "+ **Output**: Kesimpulan yang merepresentasikan jawaban dari pakar.\n",
    "\n",
    "Pada pertemuan ini kita akan membahas tentang 3 metode fuzzy logic:\n",
    "+ Mamdani\n",
    "+ Sugeno\n",
    "+ Tsukamoto (Tugas)\n",
    "\n",
    "Perbedaan dari ketiga metode tersebut adalah sebagai berikut:\n",
    "\n",
    "<img src=\"img/fuzzy_method.png\" alt=\"Drawing\" width= 1000px;/>\n",
    "\n",
    "sumber: [https://www.youtube.com/watch?v=RjyRTBNk3w8&t=8s](https://www.youtube.com/watch?v=RjyRTBNk3w8&t=8s)"
   ]
  },
  {
   "cell_type": "markdown",
   "metadata": {},
   "source": [
    "#### Set or Generate Matric Range Value\n",
    "\n",
    "Buat range value yang menyatakan batas range dari metric atau ukuran value dari data tersebut.\n",
    "\n",
    "Kasus: **Diagnosa Penyakit Jantung**\n",
    "\n",
    "Sumber: [https://medium.com/@sevde.kaskaya/heart-disease-diagnosis-with-fuzzy-logic-b214e27492c4](https://medium.com/@sevde.kaskaya/heart-disease-diagnosis-with-fuzzy-logic-b214e27492c4)"
   ]
  },
  {
   "cell_type": "code",
   "execution_count": null,
   "metadata": {},
   "outputs": [],
   "source": [
    "x_age = np.arange(0, 101, 1)\n",
    "x_blood_pressure = np.arange(0, 221, 1)\n",
    "x_cholesterol = np.arange(100, 251, 1)\n",
    "x_blood_sugar = np.arange(0, 121, 1)\n",
    "x_hdl = np.arange(0, 71, 1)\n",
    "x_ldl = np.arange(0, 191, 1)\n",
    "y_risk = np.arange(0, 46, 1)"
   ]
  },
  {
   "cell_type": "markdown",
   "metadata": {},
   "source": [
    "**Debug**:"
   ]
  },
  {
   "cell_type": "code",
   "execution_count": null,
   "metadata": {},
   "outputs": [],
   "source": [
    "x_age"
   ]
  },
  {
   "cell_type": "code",
   "execution_count": null,
   "metadata": {},
   "outputs": [],
   "source": [
    "x_blood_pressure"
   ]
  },
  {
   "cell_type": "code",
   "execution_count": null,
   "metadata": {},
   "outputs": [],
   "source": [
    "# print range dan batas metric setiap data\n",
    "print(f\"age from {x_age[0]} to {x_age[-1]}\")\n",
    "print(f\"blood pressure from {x_blood_pressure[0]} to {x_blood_pressure[-1]}\")\n",
    "print(f\"cholesterol from {x_cholesterol[0]} to {x_cholesterol[-1]}\")\n",
    "print(f\"blood sugar from {x_blood_sugar[0]} to {x_blood_sugar[-1]}\")\n",
    "print(f\"hdl from {x_hdl[0]} to {x_hdl[-1]}\")\n",
    "print(f\"ldl from {x_ldl[0]} to {x_ldl[-1]}\")\n",
    "print(f\"risk from {y_risk[0]} to {y_risk[-1]}\")"
   ]
  },
  {
   "cell_type": "markdown",
   "metadata": {},
   "source": [
    "---"
   ]
  },
  {
   "cell_type": "markdown",
   "metadata": {},
   "source": [
    "#### User Condition Input\n",
    "\n",
    "Buat data yang mengambarkan kondisi dari object yang ingin diketahui (misal: pasien untuk dilakukan pemeriksaan *Heart Disease Diagnosis*)."
   ]
  },
  {
   "cell_type": "code",
   "execution_count": null,
   "metadata": {},
   "outputs": [],
   "source": [
    "input_age = 40\n",
    "input_blood_pressure =100\n",
    "input_cholesterol = 180\n",
    "input_blood_sugar = 160\n",
    "input_ldl = 170\n",
    "input_hdl = 60"
   ]
  },
  {
   "cell_type": "markdown",
   "metadata": {},
   "source": [
    "#### Initialize and Visualize Knowledge Base by Range\n",
    "\n",
    "Lakukan pembagian data `age` yang disesuaikan dengan bidang pakar dan visualisasikan. Bila dinyatakan dengan persamaan maka berikut adalah persamaan garis untuk membagi pengelompokan umur atau  `age`.\n",
    "<br><br>\n",
    "\n",
    "$$\n",
    "\\mu_{age} = \\left\\{\\begin{matrix}\n",
    "\\mu_{young} = \\left\\{\\begin{matrix}\n",
    "0 & 0 \\geq 40 \\\\ \n",
    "\\frac{40 - x}{40-30} & 30 \\leq x \\leq 40 \\\\ \n",
    "1 & x \\leq 30 \n",
    "\\end{matrix}\\right. \\\\ \n",
    "\\mu_{mid} = \\left\\{\\begin{matrix}\n",
    "0 & 0 \\leq 30 \\\\ \n",
    "\\frac{x - 30}{40-30} & 30 \\leq x \\leq 40 \\\\ \n",
    "\\frac{60 - x}{60-50} & 50 \\leq x \\leq 60 \\\\ \n",
    "1 & 40 \\leq x \\leq 50 \\\\\n",
    "0 & 0 \\geq 60\n",
    "\\end{matrix}\\right. \\\\ \n",
    "\\mu_{old} = \\left\\{\\begin{matrix}\n",
    "0 & 0 \\leq 50 \\\\ \n",
    "\\frac{x - 60}{60-50} & 50 \\leq x \\leq 60 \\\\ \n",
    "1 & x \\geq 60 \n",
    "\\end{matrix}\\right.\n",
    "\\end{matrix}\\right.\n",
    "$$"
   ]
  },
  {
   "cell_type": "code",
   "execution_count": null,
   "metadata": {},
   "outputs": [],
   "source": [
    "age_young = mf.trapmf(x_age, [0, 0, 30, 40])\n",
    "age_mid = mf.trapmf(x_age, [30, 40, 50, 60]) \n",
    "age_old = mf.trapmf(x_age, [50, 60, 100, 100])"
   ]
  },
  {
   "cell_type": "code",
   "execution_count": null,
   "metadata": {},
   "outputs": [],
   "source": [
    "fig = plt.subplots(figsize=(15, 5))\n",
    "\n",
    "plt.plot(x_age, age_young, 'b', linewidth=1.5, label='Young')\n",
    "plt.plot(x_age, age_mid, 'g', linewidth=1.5, label='Middle')\n",
    "plt.plot(x_age, age_old, 'r', linewidth=1.5, label='Old')\n",
    "plt.title('Age')\n",
    "plt.legend()"
   ]
  },
  {
   "cell_type": "markdown",
   "metadata": {},
   "source": [
    "Lakukan pembagian data `blood_pressure` yang disesuaikan dengan bidang pakar dan visualisasikan."
   ]
  },
  {
   "cell_type": "code",
   "execution_count": null,
   "metadata": {},
   "outputs": [],
   "source": [
    "blood_pressure_low = mf.trapmf(x_blood_pressure, [0, 0, 100, 120])\n",
    "blood_pressure_mid = mf.trapmf(x_blood_pressure, [100, 120, 140, 160])\n",
    "blood_pressure_high = mf.trapmf(x_blood_pressure, [140, 160, 180, 200])\n",
    "blood_pressure_very_high = mf.trapmf(x_blood_pressure, [180, 200, 220, 220])"
   ]
  },
  {
   "cell_type": "code",
   "execution_count": null,
   "metadata": {},
   "outputs": [],
   "source": [
    "fig = plt.subplots(figsize=(15, 5))\n",
    "\n",
    "plt.plot(x_blood_pressure, blood_pressure_low, 'b', linewidth=1.5, label='Low')\n",
    "plt.plot(x_blood_pressure, blood_pressure_mid, 'g', linewidth=1.5, label='Middle')\n",
    "plt.plot(x_blood_pressure, blood_pressure_high, 'r', linewidth=1.5, label='High')\n",
    "plt.plot(x_blood_pressure, blood_pressure_very_high, 'y', linewidth=1.5, label='Very High')\n",
    "plt.title('Blood Pressure')\n",
    "plt.legend()"
   ]
  },
  {
   "cell_type": "markdown",
   "metadata": {},
   "source": [
    "Lakukan pembagian data tingkat `cholesterol` yang disesuaikan dengan bidang pakar dan visualisasikan."
   ]
  },
  {
   "cell_type": "code",
   "execution_count": null,
   "metadata": {},
   "outputs": [],
   "source": [
    "cholesterol_low = mf.trapmf(x_cholesterol, [0, 0, 180, 200])\n",
    "cholesterol_mid = mf.trapmf(x_cholesterol, [180, 200, 220, 240])\n",
    "cholesterol_high = mf.trapmf(x_cholesterol, [220, 240, 250, 270])"
   ]
  },
  {
   "cell_type": "code",
   "execution_count": null,
   "metadata": {},
   "outputs": [],
   "source": [
    "fig = plt.subplots(figsize=(15, 5))\n",
    "\n",
    "plt.plot(x_cholesterol, cholesterol_low, 'b', linewidth=1.5, label='Young')\n",
    "plt.plot(x_cholesterol, cholesterol_mid, 'g', linewidth=1.5, label='Middle')\n",
    "plt.plot(x_cholesterol, cholesterol_high, 'r', linewidth=1.5, label='Old')\n",
    "plt.title('Colesterol')\n",
    "plt.legend()"
   ]
  },
  {
   "cell_type": "markdown",
   "metadata": {},
   "source": [
    "Lakukan pembagian data tingkat `blood_sugar` atau gula darah yang disesuaikan dengan bidang pakar dan visualisasikan."
   ]
  },
  {
   "cell_type": "code",
   "execution_count": null,
   "metadata": {},
   "outputs": [],
   "source": [
    "blood_sugar_very_high = mf.trimf(x_blood_sugar, [90, 120, 130])"
   ]
  },
  {
   "cell_type": "code",
   "execution_count": null,
   "metadata": {},
   "outputs": [],
   "source": [
    "fig = plt.subplots(figsize=(15, 5))\n",
    "\n",
    "plt.plot(x_blood_sugar, blood_sugar_very_high, 'b', linewidth=1.5, label='Very High')\n",
    "plt.title('Blood Sugar')\n",
    "plt.legend()"
   ]
  },
  {
   "cell_type": "markdown",
   "metadata": {},
   "source": [
    "Lakukan pembagian data tingkat `ldl` atau kolesterol jahat (sumber: [https://bumame.com/blog/tips-kesehatan/apa-itu-ldl-kolesterol-jahat/](https://bumame.com/blog/tips-kesehatan/apa-itu-ldl-kolesterol-jahat/)) yang disesuaikan dengan bidang pakar dan visualisasikan."
   ]
  },
  {
   "cell_type": "code",
   "execution_count": null,
   "metadata": {},
   "outputs": [],
   "source": [
    "ldl_normal= mf.trimf(x_ldl, [0, 0, 100,])\n",
    "ldl_limit= mf.trimf(x_ldl, [100, 130, 160,])\n",
    "ldl_high= mf.trimf(x_ldl, [130, 160, 190,])\n",
    "ldl_very_high= mf.trapmf(x_ldl, [160, 190, 200, 200])"
   ]
  },
  {
   "cell_type": "code",
   "execution_count": null,
   "metadata": {},
   "outputs": [],
   "source": [
    "fig = plt.subplots(figsize=(15, 5))\n",
    "\n",
    "plt.plot(x_ldl, ldl_normal, 'b', linewidth=1.5, label='Low')\n",
    "plt.plot(x_ldl, ldl_limit, 'g', linewidth=1.5, label='Middle')\n",
    "plt.plot(x_ldl, ldl_high, 'r', linewidth=1.5, label='High')\n",
    "plt.plot(x_ldl, ldl_very_high, 'y', linewidth=1.5, label='Very High')\n",
    "plt.title('LDL')\n",
    "plt.legend()"
   ]
  },
  {
   "cell_type": "markdown",
   "metadata": {},
   "source": [
    "Lakukan pembagian data tingkat `hdl` atau kolesterol baik (sumber: [https://www.alodokter.com/mengenal-hdl-kolesterol-baik-yang-penting-bagi-tubuh/](https://www.alodokter.com/mengenal-hdl-kolesterol-baik-yang-penting-bagi-tubuh/)) yang disesuaikan dengan bidang pakar dan visualisasikan."
   ]
  },
  {
   "cell_type": "code",
   "execution_count": null,
   "metadata": {},
   "outputs": [],
   "source": [
    "hdl_low= mf.trapmf(x_hdl, [0, 0, 30, 40])\n",
    "hdl_mid= mf.trapmf(x_hdl, [30, 40, 50, 60])\n",
    "hdl_high= mf.trapmf(x_hdl, [50, 60, 80, 80])"
   ]
  },
  {
   "cell_type": "code",
   "execution_count": null,
   "metadata": {},
   "outputs": [],
   "source": [
    "fig = plt.subplots(figsize=(15, 5))\n",
    "\n",
    "plt.plot(x_hdl, hdl_low, 'b', linewidth=1.5, label='Low')\n",
    "plt.plot(x_hdl, hdl_mid, 'g', linewidth=1.5, label='Middle')\n",
    "plt.plot(x_hdl, hdl_high, 'r', linewidth=1.5, label='High')\n",
    "plt.title('HDL')\n",
    "plt.legend()"
   ]
  },
  {
   "cell_type": "markdown",
   "metadata": {},
   "source": [
    "#### Hypotesis\n",
    "\n",
    "Gunakan hasil diagnosa awal yang umumnya terjadi."
   ]
  },
  {
   "cell_type": "code",
   "execution_count": null,
   "metadata": {},
   "outputs": [],
   "source": [
    "risk_not = mf.trapmf(y_risk, [0 ,0 ,5 ,10])\n",
    "risk_little = mf.trapmf(y_risk, [5 ,10 ,15 ,20])\n",
    "risk_mid = mf.trapmf(y_risk, [15 ,20 ,25 ,30])\n",
    "risk_high = mf.trapmf(y_risk, [25 ,30 ,35 ,40])\n",
    "risk_very_high = mf.trapmf(y_risk, [35, 40, 45, 50])"
   ]
  },
  {
   "cell_type": "code",
   "execution_count": null,
   "metadata": {},
   "outputs": [],
   "source": [
    "fig = plt.subplots(figsize=(15, 5))\n",
    "\n",
    "plt.plot(y_risk, risk_not, 'b', linewidth=1.5, label='Not Risk')\n",
    "plt.plot(y_risk, risk_little, 'g', linewidth=1.5, label='Little Risk')\n",
    "plt.plot(y_risk, risk_mid, 'r', linewidth=1.5, label='Middle Risk')\n",
    "plt.plot(y_risk, risk_high, 'y', linewidth=1.5, label='High Risk')\n",
    "plt.plot(y_risk, risk_very_high, 'm', linewidth=1.5, label='Very High Risk')\n",
    "plt.title('RISK')\n",
    "plt.legend()"
   ]
  },
  {
   "cell_type": "markdown",
   "metadata": {},
   "source": [
    "### **Fuzzification**\n",
    "\n",
    "Mapping input dari variable yang berawalan dengan nama `input_` ke setiap range value yang berupa metric dan mencari range dari value pada variabel `input_` tersebut masuk ke range yang mana."
   ]
  },
  {
   "cell_type": "code",
   "execution_count": null,
   "metadata": {},
   "outputs": [],
   "source": [
    "age_fit_young = fuzz.interp_membership(x_age, age_young, input_age)\n",
    "age_fit_mid = fuzz.interp_membership(x_age, age_mid, input_age)\n",
    "age_fit_old = fuzz.interp_membership(x_age, age_old, input_age)\n",
    "\n",
    "blood_pressure_fit_low = fuzz.interp_membership(x_blood_pressure, blood_pressure_low, input_blood_pressure)\n",
    "blood_pressure_fit_mid = fuzz.interp_membership(x_blood_pressure, blood_pressure_mid, input_blood_pressure)\n",
    "blood_pressure_fit_high = fuzz.interp_membership(x_blood_pressure, blood_pressure_high , input_blood_pressure)\n",
    "blood_pressure_fit_very_high = fuzz.interp_membership(x_blood_pressure, blood_pressure_very_high, input_blood_pressure)\n",
    "\n",
    "cholesterol_fit_low = fuzz.interp_membership(x_cholesterol, cholesterol_low, input_cholesterol)\n",
    "cholesterol_fit_mid = fuzz.interp_membership(x_cholesterol, cholesterol_mid, input_cholesterol)\n",
    "cholesterol_fit_high = fuzz.interp_membership(x_cholesterol, cholesterol_high, input_cholesterol)\n",
    "\n",
    "blood_sugar_fit_very_high = fuzz.interp_membership(x_blood_sugar, blood_sugar_very_high, input_blood_sugar)\n",
    "\n",
    "ldl_fit_normal = fuzz.interp_membership(x_ldl, ldl_normal, input_ldl)\n",
    "ldl_fit_limit = fuzz.interp_membership(x_ldl, ldl_limit, input_ldl)\n",
    "ldl_fit_high = fuzz.interp_membership(x_ldl,ldl_high , input_ldl)\n",
    "ldl_fit_very_high = fuzz.interp_membership(x_ldl, ldl_very_high, input_ldl)\n",
    "\n",
    "hdl_fit_low = fuzz.interp_membership(x_hdl, hdl_low, input_hdl)\n",
    "hdl_fit_mid = fuzz.interp_membership(x_hdl, hdl_mid, input_hdl)\n",
    "hdl_fit_high = fuzz.interp_membership(x_hdl, hdl_high, input_hdl)"
   ]
  },
  {
   "cell_type": "markdown",
   "metadata": {},
   "source": [
    "Debug:"
   ]
  },
  {
   "cell_type": "code",
   "execution_count": null,
   "metadata": {},
   "outputs": [],
   "source": [
    "x_age"
   ]
  },
  {
   "cell_type": "code",
   "execution_count": null,
   "metadata": {},
   "outputs": [],
   "source": [
    "age_mid"
   ]
  },
  {
   "cell_type": "code",
   "execution_count": null,
   "metadata": {},
   "outputs": [],
   "source": [
    "input_age"
   ]
  },
  {
   "cell_type": "code",
   "execution_count": null,
   "metadata": {},
   "outputs": [],
   "source": [
    "age_fit_old"
   ]
  },
  {
   "cell_type": "markdown",
   "metadata": {},
   "source": [
    "---"
   ]
  },
  {
   "cell_type": "markdown",
   "metadata": {},
   "source": [
    "### **Inference**\n",
    "\n",
    "Penerapan aturan yang dibuat berdasarkan Sistem Pakar (Pakar dalam case ini adalah Dokter).\n",
    "\n",
    "<img src=\"https://miro.medium.com/v2/resize:fit:4800/format:webp/1*xefGIRf5GF0eRdDKnTqchw.png\" alt=\"Drawing\" width= 1200px;/>"
   ]
  },
  {
   "cell_type": "code",
   "execution_count": null,
   "metadata": {},
   "outputs": [],
   "source": [
    "# tujuan memperoleh nilai minimal atau memilih rule (kondisi) mana yang paling sesuai\n",
    "rule1 = np.fmin(np.fmin(np.fmin(np.fmin(blood_pressure_fit_low ,cholesterol_fit_low),ldl_fit_normal), hdl_fit_high), risk_not)\n",
    "rule2 = np.fmin(np.fmin(np.fmin(np.fmin(blood_pressure_fit_low ,cholesterol_fit_low),ldl_fit_limit), hdl_fit_high), risk_little) \n",
    "rule3 = np.fmin(np.fmin(np.fmin(np.fmin(blood_pressure_fit_low ,cholesterol_fit_low),ldl_fit_high), hdl_fit_high), risk_mid) \n",
    "rule4 = np.fmin(np.fmin(np.fmin(np.fmin(blood_pressure_fit_low ,cholesterol_fit_low),ldl_fit_very_high), hdl_fit_high), risk_high) \n",
    "rule5 = np.fmin(np.fmin(np.fmin(blood_pressure_fit_mid ,cholesterol_fit_low), hdl_fit_high), risk_not) \n",
    "\n",
    "rule6 = np.fmin(np.fmin(np.fmin(age_fit_young, blood_pressure_fit_mid), cholesterol_fit_mid), risk_not)\n",
    "rule7 = np.fmin(np.fmin(np.fmin(age_fit_mid, blood_pressure_fit_mid), cholesterol_fit_mid), risk_not) \n",
    "rule8 = np.fmin(np.fmin(np.fmin(age_fit_old, blood_pressure_fit_mid), cholesterol_fit_mid), risk_not) \n",
    "rule9 = np.fmin(np.fmin(np.fmin(age_fit_young, blood_pressure_fit_high), cholesterol_fit_high), risk_mid) \n",
    "rule10 = np.fmin(np.fmin(np.fmin(age_fit_mid, blood_pressure_fit_high), cholesterol_fit_high), risk_high) \n",
    "rule11 = np.fmin(np.fmin(np.fmin(age_fit_old, blood_pressure_fit_high), cholesterol_fit_high), risk_very_high) \n",
    "\n",
    "rule12 = np.fmin(np.fmin(np.fmin(np.fmin(np.fmin(age_fit_young, blood_pressure_fit_mid), cholesterol_fit_low), ldl_fit_normal), hdl_fit_low), risk_not) \n",
    "rule13 = np.fmin(np.fmin(age_fit_young, blood_sugar_fit_very_high), risk_little) \n",
    "rule14 = np.fmin(np.fmin(age_fit_mid, blood_sugar_fit_very_high), risk_high) \n",
    "rule15 = np.fmin(np.fmin(age_fit_old, blood_sugar_fit_very_high), risk_very_high) \n",
    "rule16 = np.fmin(np.fmin(np.fmin(np.fmin(np.fmin(np.fmin(age_fit_young, blood_pressure_fit_low), cholesterol_fit_low), blood_sugar_fit_very_high), ldl_fit_normal), hdl_fit_high), risk_little) \n",
    "rule17 = np.fmin(np.fmin(np.fmin(np.fmin(np.fmin(np.fmin(age_fit_mid, blood_pressure_fit_low), cholesterol_fit_low), blood_sugar_fit_very_high), ldl_fit_normal), hdl_fit_high), risk_high) \n",
    "rule18 = np.fmin(np.fmin(np.fmin(np.fmin(np.fmin(np.fmin(age_fit_old, blood_pressure_fit_low), cholesterol_fit_low), blood_sugar_fit_very_high), ldl_fit_normal), hdl_fit_high), risk_very_high) \n",
    "rule19 = np.fmin(np.fmin(np.fmin(np.fmin(np.fmin(np.fmin(age_fit_mid, blood_pressure_fit_low), cholesterol_fit_low), blood_sugar_fit_very_high), ldl_fit_very_high), hdl_fit_high), risk_very_high) \n",
    "\n",
    "rule20 = np.fmin(np.fmin(np.fmin(np.fmin(blood_pressure_fit_very_high, cholesterol_fit_high), ldl_fit_very_high), hdl_fit_high), risk_very_high) \n",
    "rule21 = np.fmin(np.fmin(np.fmin(np.fmin(blood_pressure_fit_high, cholesterol_fit_high), ldl_fit_high), hdl_fit_mid), risk_very_high) \n",
    "rule22 = np.fmin(np.fmin(np.fmin(np.fmin(np.fmin(age_fit_young, blood_pressure_fit_very_high), cholesterol_fit_high), ldl_fit_very_high), hdl_fit_mid), risk_mid) \n",
    "rule23 = np.fmin(np.fmin(age_fit_mid, blood_pressure_fit_very_high), risk_very_high)  \n",
    "rule24 = np.fmin(np.fmin(age_fit_old, blood_pressure_fit_very_high), risk_very_high) "
   ]
  },
  {
   "cell_type": "markdown",
   "metadata": {},
   "source": [
    "**Debug**:"
   ]
  },
  {
   "cell_type": "code",
   "execution_count": null,
   "metadata": {},
   "outputs": [],
   "source": [
    "blood_pressure_fit_low"
   ]
  },
  {
   "cell_type": "code",
   "execution_count": null,
   "metadata": {},
   "outputs": [],
   "source": [
    "cholesterol_fit_low"
   ]
  },
  {
   "cell_type": "code",
   "execution_count": null,
   "metadata": {},
   "outputs": [],
   "source": [
    "np.fmin(blood_pressure_fit_low ,cholesterol_fit_low)"
   ]
  },
  {
   "cell_type": "code",
   "execution_count": null,
   "metadata": {},
   "outputs": [],
   "source": [
    "ldl_fit_very_high"
   ]
  },
  {
   "cell_type": "code",
   "execution_count": null,
   "metadata": {},
   "outputs": [],
   "source": [
    "np.fmin(np.fmin(blood_pressure_fit_low ,cholesterol_fit_low),ldl_fit_very_high)"
   ]
  },
  {
   "cell_type": "code",
   "execution_count": null,
   "metadata": {},
   "outputs": [],
   "source": [
    "hdl_fit_high"
   ]
  },
  {
   "cell_type": "code",
   "execution_count": null,
   "metadata": {},
   "outputs": [],
   "source": [
    "np.fmin(np.fmin(np.fmin(blood_pressure_fit_low ,cholesterol_fit_low),ldl_fit_very_high), hdl_fit_high)"
   ]
  },
  {
   "cell_type": "code",
   "execution_count": null,
   "metadata": {},
   "outputs": [],
   "source": [
    "risk_mid"
   ]
  },
  {
   "cell_type": "code",
   "execution_count": null,
   "metadata": {},
   "outputs": [],
   "source": [
    "np.fmin(np.fmin(np.fmin(np.fmin(blood_pressure_fit_low ,cholesterol_fit_low),ldl_fit_very_high), hdl_fit_high), risk_high)"
   ]
  },
  {
   "cell_type": "markdown",
   "metadata": {},
   "source": [
    "---"
   ]
  },
  {
   "cell_type": "code",
   "execution_count": null,
   "metadata": {},
   "outputs": [],
   "source": [
    "# tujuan memperoleh nilai maksima atau memilih rule (kondisi) mana yang paling sesuai\n",
    "out_not = np.fmax(np.fmax(np.fmax(np.fmax(np.fmax(rule1,rule5),rule6),rule7),rule8),rule12)\n",
    "out_little = np.fmax(np.fmax(rule2,rule13), rule16)\n",
    "out_mid = np.fmax(np.fmax(rule3, rule9), rule22)\n",
    "out_high = np.fmax(np.fmax(np.fmax(rule4, rule10),rule14),rule17)\n",
    "out_very_high = np.fmax(np.fmax(np.fmax(np.fmax(np.fmax(np.fmax(np.fmax(rule11,rule15),rule18),rule19),rule20),rule21),rule23),rule24)"
   ]
  },
  {
   "cell_type": "markdown",
   "metadata": {},
   "source": [
    "**Debug**:"
   ]
  },
  {
   "cell_type": "code",
   "execution_count": null,
   "metadata": {},
   "outputs": [],
   "source": [
    "out_not"
   ]
  },
  {
   "cell_type": "code",
   "execution_count": null,
   "metadata": {},
   "outputs": [],
   "source": [
    "out_little"
   ]
  },
  {
   "cell_type": "code",
   "execution_count": null,
   "metadata": {},
   "outputs": [],
   "source": [
    "out_mid"
   ]
  },
  {
   "cell_type": "code",
   "execution_count": null,
   "metadata": {},
   "outputs": [],
   "source": [
    "out_high"
   ]
  },
  {
   "cell_type": "code",
   "execution_count": null,
   "metadata": {},
   "outputs": [],
   "source": [
    "out_very_high"
   ]
  },
  {
   "cell_type": "markdown",
   "metadata": {},
   "source": [
    "---"
   ]
  },
  {
   "cell_type": "markdown",
   "metadata": {},
   "source": [
    "#### Plotting Risk I\n",
    "\n",
    "Plot hasil inferensi tergolong ke resiko yang mana saja."
   ]
  },
  {
   "cell_type": "code",
   "execution_count": null,
   "metadata": {},
   "outputs": [],
   "source": [
    "risk0 = np.zeros_like(y_risk)\n",
    "\n",
    "fig = plt.subplots(figsize=(15, 5))\n",
    "\n",
    "plt.fill_between(y_risk, risk0, out_not, facecolor = 'r', alpha = 0.7) # plot warna\n",
    "plt.plot(y_risk, risk_not, 'r', linestyle = '--', label='Not Risk') # plot garis\n",
    "\n",
    "plt.fill_between(y_risk, risk0, out_little, facecolor = 'g', alpha = 0.7)\n",
    "plt.plot(y_risk, risk_little, 'g', linestyle = '--', label='Little Risk')\n",
    "\n",
    "plt.fill_between(y_risk, risk0, out_mid, facecolor = 'b', alpha = 0.7)\n",
    "plt.plot(y_risk, risk_mid, 'b', linestyle = '--', label='Middle Risk')\n",
    "\n",
    "plt.fill_between(y_risk, risk0, out_high, facecolor = 'y', alpha = 0.7)\n",
    "plt.plot(y_risk, risk_high, 'y', linestyle = '--', label='High Risk')\n",
    "\n",
    "plt.fill_between(y_risk, risk0, out_very_high, facecolor = 'm', alpha = 0.7)\n",
    "plt.plot(y_risk, risk_very_high, 'm', linestyle = '--', label='Very High Risk')\n",
    "\n",
    "plt.title('Output of the Risk')\n",
    "\n",
    "plt.legend()"
   ]
  },
  {
   "cell_type": "markdown",
   "metadata": {},
   "source": [
    "### **Defuzzification**\n",
    "\n",
    "Hitung tingkat resiko dari resiko yang sudah diperoleh dari proses **_inference_**."
   ]
  },
  {
   "cell_type": "code",
   "execution_count": null,
   "metadata": {},
   "outputs": [],
   "source": [
    "out_risk = np.fmax(np.fmax(np.fmax(np.fmax(out_not, out_little), out_mid), out_high), out_very_high)\n",
    "\n",
    "defuzzified  = fuzz.defuzz(y_risk, out_risk, 'centroid')\n",
    "\n",
    "result = fuzz.interp_membership(y_risk, out_risk, defuzzified)\n",
    "\n",
    "print(\"Coroner Heart Diagnosis:\", defuzzified)"
   ]
  },
  {
   "cell_type": "markdown",
   "metadata": {},
   "source": [
    "#### Plotting Risk II\n",
    "\n",
    "Plot hasil inferensi tergolong ke resiko yang mana saja dan berapa tingkat kemungkinannya (diperoleh dari **_defuzzification_**)."
   ]
  },
  {
   "cell_type": "code",
   "execution_count": null,
   "metadata": {},
   "outputs": [],
   "source": [
    "fig = plt.subplots(figsize=(15, 5))\n",
    "\n",
    "plt.plot(y_risk, risk_not, 'r', linewidth = 0.5, linestyle = '--', label='Not Risk')\n",
    "plt.plot(y_risk, risk_little, 'g', linewidth = 0.5, linestyle = '--', label='Little Risk')\n",
    "plt.plot(y_risk, risk_mid, 'b', linewidth = 0.5, linestyle = '--', label='Middle Risk')\n",
    "plt.plot(y_risk, risk_high, 'y', linewidth = 0.5, linestyle = '--', label='High Risk')\n",
    "plt.plot(y_risk, risk_very_high, 'm', linewidth = 0.5, linestyle = '--', label='Very High Risk')\n",
    "\n",
    "plt.fill_between(y_risk, risk0, out_risk, facecolor = 'Orange', alpha = 0.7)\n",
    "plt.plot([defuzzified , defuzzified], [0, result], 'k', linewidth = 1.5, alpha = 0.9)\n",
    "\n",
    "plt.title('Centroid Deffuzification')\n",
    "plt.legend()"
   ]
  },
  {
   "cell_type": "markdown",
   "metadata": {},
   "source": [
    "### Kesimpulan"
   ]
  },
  {
   "cell_type": "code",
   "execution_count": null,
   "metadata": {},
   "outputs": [],
   "source": [
    "def diagnosed_as(output):\n",
    "    if np.sum(output):\n",
    "        return fuzz.defuzz(y_risk, output, 'centroid')\n",
    "    else:\n",
    "        return 0"
   ]
  },
  {
   "cell_type": "code",
   "execution_count": null,
   "metadata": {},
   "outputs": [],
   "source": [
    "if defuzzified >= 0 and defuzzified < 5:\n",
    "    print(\"Diagnosed as Not Risk\")\n",
    "\n",
    "if defuzzified >= 5 and defuzzified < 10 and diagnosed_as(out_not) > diagnosed_as(out_little):\n",
    "    print(\"Diagnosed as Not Risk\")\n",
    "\n",
    "if defuzzified >= 5 and defuzzified < 10 and diagnosed_as(out_not) < diagnosed_as(out_little):\n",
    "    print(\"Diagnosed as Little Risk\")\n",
    "\n",
    "if defuzzified >= 10 and defuzzified < 15:\n",
    "    print(\"Diagnosed as Little Risk\")\n",
    "\n",
    "if defuzzified >= 15 and defuzzified < 20 and diagnosed_as(out_little) > diagnosed_as(out_mid):\n",
    "    print(\"Diagnosed as Little Risk\")\n",
    "    \n",
    "if defuzzified >= 15 and defuzzified < 20 and diagnosed_as(out_little) < diagnosed_as(out_mid):\n",
    "    print(\"Diagnosed as Middle Risk\")\n",
    "\n",
    "if defuzzified >= 20 and defuzzified < 25:\n",
    "    print(\"Diagnosed as Middle Risk\")\n",
    "\n",
    "if defuzzified >= 25 and defuzzified < 30 and diagnosed_as(out_mid) > diagnosed_as(out_high):\n",
    "    print(\"Diagnosed as Middle Risk\")\n",
    "\n",
    "if defuzzified >= 25 and defuzzified < 30 and diagnosed_as(out_mid) < diagnosed_as(out_high):\n",
    "    print(\"Diagnosed as High Risk\")\n",
    "\n",
    "if defuzzified >= 30 and defuzzified < 35:\n",
    "    print(\"Diagnosed as High Risk\")\n",
    "\n",
    "if defuzzified >= 35 and defuzzified < 40 and diagnosed_as(out_high) > diagnosed_as(out_very_high):\n",
    "    print(\"Diagnosed as High Risk\")\n",
    "\n",
    "if defuzzified >= 40 and defuzzified < 50:\n",
    "    print(\"Diagnosed as Very High Risk\")\n",
    "\n",
    "if defuzzified >= 35 and defuzzified < 40 and diagnosed_as(out_high) < diagnosed_as(out_very_high):\n",
    "    print(\"Diagnosed as Very High Risk\")"
   ]
  },
  {
   "cell_type": "markdown",
   "metadata": {},
   "source": [
    "### Tugas\n",
    "\n",
    "Konversikan program dari jupyter notebook berikut menjadi sebuah program python dengan nama `mamdani_disease_diagnosis.py`. Program ini dapat menerima masukan berupa data dari terminal kemudian memprosesnya dan menampilkan hasilnnya!\n",
    "\n",
    "Input → Process → Output\n",
    "\n",
    "### Bonus\n",
    "\n",
    "Pelajari konsep dari Fuzzy logic dari penjelasan saya, lalu kerjakan kasus di atas dengan menggunakan metode Fuzzy `Tsukamoto`, kerjakan dalam jupyter-notebook dan beri nama `tsukamoto_disease_diagnosis.ipynb` dan simpan dalam folder `fuzzy-logic`!\n",
    "\n",
    "**Note:** Semua tugas tolong di simpan dalam folder `fuzzy-logic` dan push ke GitHub!"
   ]
  }
 ],
 "metadata": {
  "kernelspec": {
   "display_name": ".py-ml-ds-cheatsheet-venv",
   "language": "python",
   "name": "python3"
  },
  "language_info": {
   "codemirror_mode": {
    "name": "ipython",
    "version": 3
   },
   "file_extension": ".py",
   "mimetype": "text/x-python",
   "name": "python",
   "nbconvert_exporter": "python",
   "pygments_lexer": "ipython3",
   "version": "3.10.12"
  }
 },
 "nbformat": 4,
 "nbformat_minor": 2
}
